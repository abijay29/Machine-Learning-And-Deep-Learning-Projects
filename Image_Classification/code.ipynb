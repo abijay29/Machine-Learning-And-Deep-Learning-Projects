{
 "cells": [
  {
   "cell_type": "code",
   "execution_count": null,
   "metadata": {
    "_cell_guid": "b1076dfc-b9ad-4769-8c92-a6c4dae69d19",
    "_uuid": "8f2839f25d086af736a60e9eeb907d3b93b6e0e5",
    "execution": {
     "iopub.execute_input": "2025-03-19T07:21:54.251099Z",
     "iopub.status.busy": "2025-03-19T07:21:54.250848Z",
     "iopub.status.idle": "2025-03-19T07:22:06.577582Z",
     "shell.execute_reply": "2025-03-19T07:22:06.576719Z",
     "shell.execute_reply.started": "2025-03-19T07:21:54.251073Z"
    },
    "trusted": true
   },
   "outputs": [],
   "source": [
    "# This Python 3 environment comes with many helpful analytics libraries installed\n",
    "# It is defined by the kaggle/python Docker image: https://github.com/kaggle/docker-python\n",
    "# For example, here's several helpful packages to load\n",
    "\n",
    "import numpy as np # linear algebra\n",
    "import pandas as pd # data processing, CSV file I/O (e.g. pd.read_csv)\n",
    "\n",
    "# Input data files are available in the read-only \"../input/\" directory\n",
    "# For example, running this (by clicking run or pressing Shift+Enter) will list all files under the input directory\n",
    "\n",
    "import os\n",
    "for dirname, _, filenames in os.walk('/kaggle/input'):\n",
    "    for filename in filenames:\n",
    "        print(os.path.join(dirname, filename))\n",
    "\n",
    "# You can write up to 20GB to the current directory (/kaggle/working/) that gets preserved as output when you create a version using \"Save & Run All\" \n",
    "# You can also write temporary files to /kaggle/temp/, but they won't be saved outside of the current session"
   ]
  },
  {
   "cell_type": "markdown",
   "metadata": {},
   "source": [
    "# Importing Required Libraries"
   ]
  },
  {
   "cell_type": "code",
   "execution_count": null,
   "metadata": {
    "execution": {
     "iopub.execute_input": "2025-03-19T07:22:06.578896Z",
     "iopub.status.busy": "2025-03-19T07:22:06.578458Z",
     "iopub.status.idle": "2025-03-19T07:22:13.422392Z",
     "shell.execute_reply": "2025-03-19T07:22:13.421474Z",
     "shell.execute_reply.started": "2025-03-19T07:22:06.578871Z"
    },
    "trusted": true
   },
   "outputs": [],
   "source": [
    "#import necessary libraries\n",
    "import torch\n",
    "import torch.nn as nn\n",
    "import torch.optim as optim\n",
    "import torch.nn.functional as F\n",
    "import torchvision.transforms as transforms\n",
    "from torchvision.transforms import InterpolationMode\n",
    "import torchvision.models as models\n",
    "import torchvision.datasets as datasets\n",
    "from torch.utils.data import DataLoader, random_split\n",
    "from sklearn.metrics import f1_score\n",
    "import pandas as pd\n",
    "import numpy as np\n",
    "import os\n",
    "from tqdm import tqdm"
   ]
  },
  {
   "cell_type": "code",
   "execution_count": null,
   "metadata": {
    "execution": {
     "iopub.execute_input": "2025-03-19T07:22:13.423578Z",
     "iopub.status.busy": "2025-03-19T07:22:13.423229Z",
     "iopub.status.idle": "2025-03-19T07:22:13.509068Z",
     "shell.execute_reply": "2025-03-19T07:22:13.508161Z",
     "shell.execute_reply.started": "2025-03-19T07:22:13.423555Z"
    },
    "trusted": true
   },
   "outputs": [],
   "source": [
    "device = torch.device(\"cuda\" if torch.cuda.is_available() else \"cpu\")"
   ]
  },
  {
   "cell_type": "markdown",
   "metadata": {},
   "source": [
    "# Data Augmentation & Preprocessing"
   ]
  },
  {
   "cell_type": "code",
   "execution_count": null,
   "metadata": {
    "execution": {
     "iopub.execute_input": "2025-03-19T07:22:13.510311Z",
     "iopub.status.busy": "2025-03-19T07:22:13.510022Z",
     "iopub.status.idle": "2025-03-19T07:22:13.528710Z",
     "shell.execute_reply": "2025-03-19T07:22:13.527908Z",
     "shell.execute_reply.started": "2025-03-19T07:22:13.510291Z"
    },
    "trusted": true
   },
   "outputs": [],
   "source": [
    "#transformation for train dataset\n",
    "transform_train = transforms.Compose([\n",
    "    transforms.Resize([224], interpolation=InterpolationMode.BICUBIC),  \n",
    "    transforms.RandomHorizontalFlip(p=0.5), #randomly flip image horizontally\n",
    "    transforms.RandomVerticalFlip(p=0.5), #randomly flip vertically\n",
    "    transforms.RandomRotation(degrees=30),  \n",
    "    transforms.RandomCrop([224], padding=4),  \n",
    "    transforms.ToTensor(),  #convert to tensor\n",
    "    transforms.Normalize(mean=[0.485, 0.456, 0.406], std=[0.229, 0.224, 0.225])  \n",
    "])\n",
    "\n",
    "\n",
    "#tranformation for Test dataset\n",
    "transform_test = transforms.Compose([\n",
    "    transforms.Resize((224, 224)),\n",
    "    transforms.ToTensor(),\n",
    "    transforms.Normalize(mean=[0.485, 0.456, 0.406], std=[0.229, 0.224, 0.225])\n",
    "])"
   ]
  },
  {
   "cell_type": "markdown",
   "metadata": {},
   "source": [
    "# Loading and Splitting the dataset"
   ]
  },
  {
   "cell_type": "code",
   "execution_count": null,
   "metadata": {
    "execution": {
     "iopub.execute_input": "2025-03-19T07:22:13.529857Z",
     "iopub.status.busy": "2025-03-19T07:22:13.529571Z",
     "iopub.status.idle": "2025-03-19T07:22:18.072269Z",
     "shell.execute_reply": "2025-03-19T07:22:18.071587Z",
     "shell.execute_reply.started": "2025-03-19T07:22:13.529828Z"
    },
    "trusted": true
   },
   "outputs": [],
   "source": [
    "dataset = datasets.ImageFolder(root=\"/kaggle/input/deep-learning-practice-week-9-image-c-lassifica/train\", transform=transform_train)\n"
   ]
  },
  {
   "cell_type": "code",
   "execution_count": null,
   "metadata": {
    "execution": {
     "iopub.execute_input": "2025-03-19T07:22:18.074368Z",
     "iopub.status.busy": "2025-03-19T07:22:18.074147Z",
     "iopub.status.idle": "2025-03-19T07:22:18.103534Z",
     "shell.execute_reply": "2025-03-19T07:22:18.102983Z",
     "shell.execute_reply.started": "2025-03-19T07:22:18.074349Z"
    },
    "trusted": true
   },
   "outputs": [],
   "source": [
    "train_size = int(0.8 * len(dataset))  # 80% train, 20% val\n",
    "val_size = len(dataset) - train_size\n",
    "train_dataset, val_dataset = random_split(dataset, [train_size, val_size])\n"
   ]
  },
  {
   "cell_type": "code",
   "execution_count": null,
   "metadata": {
    "execution": {
     "iopub.execute_input": "2025-03-19T07:22:18.104960Z",
     "iopub.status.busy": "2025-03-19T07:22:18.104763Z",
     "iopub.status.idle": "2025-03-19T07:22:18.108731Z",
     "shell.execute_reply": "2025-03-19T07:22:18.108006Z",
     "shell.execute_reply.started": "2025-03-19T07:22:18.104944Z"
    },
    "trusted": true
   },
   "outputs": [],
   "source": [
    "train_loader = DataLoader(train_dataset, batch_size=64, shuffle=True,num_workers=4, pin_memory=True)\n",
    "val_loader = DataLoader(val_dataset, batch_size=64, shuffle=False,num_workers=4, pin_memory=True)\n"
   ]
  },
  {
   "cell_type": "markdown",
   "metadata": {},
   "source": [
    "# Visualizing the image"
   ]
  },
  {
   "cell_type": "code",
   "execution_count": null,
   "metadata": {
    "execution": {
     "iopub.execute_input": "2025-03-19T07:22:18.109662Z",
     "iopub.status.busy": "2025-03-19T07:22:18.109479Z",
     "iopub.status.idle": "2025-03-19T07:22:22.233894Z",
     "shell.execute_reply": "2025-03-19T07:22:22.232862Z",
     "shell.execute_reply.started": "2025-03-19T07:22:18.109646Z"
    },
    "trusted": true
   },
   "outputs": [],
   "source": [
    "# Unnormalize an image\n",
    "import matplotlib.pyplot as plt\n",
    "\n",
    "def unnormalize(img):\n",
    "    mean = np.array([0.485, 0.456, 0.406])\n",
    "    std = np.array([0.229, 0.224, 0.225])\n",
    "    img = img.numpy().transpose((1, 2, 0))  \n",
    "    img = img * std + mean \n",
    "    img = np.clip(img, 0, 1)  \n",
    "    return img\n",
    "\n",
    "# getting batch of training data\n",
    "image, label = next(iter(train_loader))\n",
    "\n",
    "# Plotting the first image\n",
    "plt.imshow(unnormalize(image[0]))\n",
    "plt.title(f\"Label: {label[0].item()}\")\n",
    "plt.show()"
   ]
  },
  {
   "cell_type": "code",
   "execution_count": null,
   "metadata": {
    "execution": {
     "iopub.execute_input": "2025-03-19T07:22:22.235206Z",
     "iopub.status.busy": "2025-03-19T07:22:22.234903Z",
     "iopub.status.idle": "2025-03-19T07:22:22.245926Z",
     "shell.execute_reply": "2025-03-19T07:22:22.245218Z",
     "shell.execute_reply.started": "2025-03-19T07:22:22.235180Z"
    },
    "trusted": true
   },
   "outputs": [],
   "source": [
    "class_counts = np.bincount([label for _, label in dataset.samples])\n",
    "class_weights = torch.tensor(class_counts.max() / class_counts, dtype=torch.float).to(device)\n",
    "criterion = nn.CrossEntropyLoss(weight=class_weights, label_smoothing=0.1)"
   ]
  },
  {
   "cell_type": "markdown",
   "metadata": {},
   "source": [
    "# Defining and Modifying the Model"
   ]
  },
  {
   "cell_type": "code",
   "execution_count": null,
   "metadata": {
    "execution": {
     "iopub.execute_input": "2025-03-19T07:22:22.247234Z",
     "iopub.status.busy": "2025-03-19T07:22:22.246929Z",
     "iopub.status.idle": "2025-03-19T07:22:45.649984Z",
     "shell.execute_reply": "2025-03-19T07:22:45.649009Z",
     "shell.execute_reply.started": "2025-03-19T07:22:22.247204Z"
    },
    "trusted": true
   },
   "outputs": [],
   "source": [
    "#pre-trained Vision Transformer (ViT) model\n",
    "model = models.vit_h_14(\n",
    "    weights = models.ViT_H_14_Weights.IMAGENET1K_SWAG_LINEAR_V1\n",
    ")\n",
    "\n",
    "model = model.to(device)\n",
    "\n"
   ]
  },
  {
   "cell_type": "code",
   "execution_count": null,
   "metadata": {
    "execution": {
     "iopub.execute_input": "2025-03-19T07:22:45.651292Z",
     "iopub.status.busy": "2025-03-19T07:22:45.650957Z",
     "iopub.status.idle": "2025-03-19T07:22:45.658300Z",
     "shell.execute_reply": "2025-03-19T07:22:45.657744Z",
     "shell.execute_reply.started": "2025-03-19T07:22:45.651269Z"
    },
    "trusted": true
   },
   "outputs": [],
   "source": [
    "# Freezing all layers except the classification head\n",
    "for param in model.parameters():\n",
    "    param.requires_grad = False\n",
    "\n",
    "\n",
    "in_features = model.heads.head.in_features  \n",
    "\n",
    "# Modifying the classification head for 10 output classes\n",
    "model.heads = nn.Sequential(\n",
    "    nn.Linear(in_features, 128, bias=True),\n",
    "    nn.LayerNorm(128), \n",
    "    nn.GELU(),\n",
    "    nn.Dropout(0.25),\n",
    "    nn.Linear(128, 10, bias=True)\n",
    ")\n",
    "\n",
    "#training for classifiction head\n",
    "for param in model.heads.parameters():\n",
    "    param.requires_grad = True\n",
    "\n",
    "# print(model)"
   ]
  },
  {
   "cell_type": "code",
   "execution_count": null,
   "metadata": {
    "execution": {
     "iopub.execute_input": "2025-03-19T07:22:45.659197Z",
     "iopub.status.busy": "2025-03-19T07:22:45.658981Z",
     "iopub.status.idle": "2025-03-19T07:22:47.348181Z",
     "shell.execute_reply": "2025-03-19T07:22:47.347402Z",
     "shell.execute_reply.started": "2025-03-19T07:22:45.659179Z"
    },
    "trusted": true
   },
   "outputs": [],
   "source": [
    "optimizer = torch.optim.AdamW(model.parameters(), lr=3e-4, weight_decay=1e-4)\n",
    "scheduler = torch.optim.lr_scheduler.StepLR(optimizer, step_size=3, gamma=0.5)"
   ]
  },
  {
   "cell_type": "markdown",
   "metadata": {},
   "source": [
    "# Training the Model"
   ]
  },
  {
   "cell_type": "code",
   "execution_count": null,
   "metadata": {
    "execution": {
     "iopub.execute_input": "2025-03-19T07:26:24.984447Z",
     "iopub.status.busy": "2025-03-19T07:26:24.984077Z",
     "iopub.status.idle": "2025-03-19T07:26:24.992185Z",
     "shell.execute_reply": "2025-03-19T07:26:24.991253Z",
     "shell.execute_reply.started": "2025-03-19T07:26:24.984421Z"
    },
    "trusted": true
   },
   "outputs": [],
   "source": [
    "from torch.cuda.amp import GradScaler, autocast #for mixed precision training\n",
    "\n",
    "def train_model(model, train_loader, val_loader, epochs=10):\n",
    "    best_f1 = 0 #tracking f1 score\n",
    "    optimizer = torch.optim.AdamW(model.parameters(), lr=3e-4, weight_decay=1e-4)\n",
    "    scheduler = torch.optim.lr_scheduler.StepLR(optimizer, step_size=3, gamma=0.5)\n",
    "    scaler = GradScaler()  \n",
    "    model.to(device)  \n",
    "    criterion.to(device)  \n",
    "\n",
    "    for epoch in range(epochs):\n",
    "        model.train()\n",
    "        train_loss, correct, total = 0, 0, 0 #initialise training metric \n",
    "        \n",
    "        for images, labels in tqdm(train_loader):\n",
    "            images, labels = images.to(device), labels.to(device)  \n",
    "\n",
    "            optimizer.zero_grad()\n",
    "            with torch.amp.autocast(device_type='cuda'):  \n",
    "                outputs = model(images)\n",
    "                loss = criterion(outputs, labels)  \n",
    "\n",
    "            scaler.scale(loss).backward() \n",
    "            scaler.step(optimizer)\n",
    "            scaler.update() #adjust scaler for next iter\n",
    "\n",
    "            train_loss += loss.item() #accumulate loss\n",
    "            _, preds = torch.max(outputs, 1)\n",
    "            correct += (preds == labels).sum().item()\n",
    "            total += labels.size(0)\n",
    "\n",
    "        train_acc = correct / total\n",
    "        val_acc, f1 = evaluate(model, val_loader)\n",
    "\n",
    "        print(f\"Epoch [{epoch+1}/{epochs}], Loss: {train_loss/len(train_loader):.4f}, Train Acc: {train_acc:.4f}, Val Acc: {val_acc:.4f}, F1 Score: {f1:.4f}\")\n",
    "\n",
    "        # Save best model based on F1 score\n",
    "        if f1 > best_f1:\n",
    "            best_f1 = f1\n",
    "            torch.save(model.state_dict(), \"best_model_f1.pth\")\n",
    "\n",
    "        scheduler.step()  \n"
   ]
  },
  {
   "cell_type": "markdown",
   "metadata": {},
   "source": [
    "# Evaluating the Model"
   ]
  },
  {
   "cell_type": "code",
   "execution_count": null,
   "metadata": {
    "execution": {
     "iopub.execute_input": "2025-03-19T07:26:24.993544Z",
     "iopub.status.busy": "2025-03-19T07:26:24.993275Z",
     "iopub.status.idle": "2025-03-19T07:26:25.012613Z",
     "shell.execute_reply": "2025-03-19T07:26:25.011824Z",
     "shell.execute_reply.started": "2025-03-19T07:26:24.993511Z"
    },
    "trusted": true
   },
   "outputs": [],
   "source": [
    "def evaluate(model, loader):\n",
    "    model.eval()\n",
    "    correct, total = 0, 0 #initialise for accuracy \n",
    "    all_preds, all_labels = [], []\n",
    "\n",
    "    with torch.no_grad():\n",
    "        for images, labels in loader:\n",
    "            images, labels = images.to(device), labels.to(device) \n",
    "            outputs = model(images) #get model prediction\n",
    "            _, preds = torch.max(outputs, 1) #convert raw score to class prediction\n",
    "\n",
    "            correct += (preds == labels).sum().item()\n",
    "            total += labels.size(0)\n",
    "            all_preds.extend(preds.cpu().numpy())  \n",
    "            all_labels.extend(labels.cpu().numpy())\n",
    "\n",
    "    f1 = f1_score(all_labels, all_preds, average=\"macro\")\n",
    "    return correct / total, f1"
   ]
  },
  {
   "cell_type": "code",
   "execution_count": null,
   "metadata": {
    "execution": {
     "iopub.execute_input": "2025-03-19T07:26:25.014453Z",
     "iopub.status.busy": "2025-03-19T07:26:25.014171Z",
     "iopub.status.idle": "2025-03-19T07:49:11.754573Z",
     "shell.execute_reply": "2025-03-19T07:49:11.753093Z",
     "shell.execute_reply.started": "2025-03-19T07:26:25.014426Z"
    },
    "trusted": true
   },
   "outputs": [],
   "source": [
    "train_model(model, train_loader, val_loader, epochs=10)\n",
    "model.load_state_dict(torch.load(\"best_model_f1.pth\"))  \n"
   ]
  },
  {
   "cell_type": "markdown",
   "metadata": {},
   "source": [
    "# Loading and Processing the Test Dataset "
   ]
  },
  {
   "cell_type": "code",
   "execution_count": null,
   "metadata": {
    "execution": {
     "iopub.status.busy": "2025-03-19T07:49:11.755360Z",
     "iopub.status.idle": "2025-03-19T07:49:11.755650Z",
     "shell.execute_reply": "2025-03-19T07:49:11.755536Z"
    },
    "trusted": true
   },
   "outputs": [],
   "source": [
    "test_dir = \"/kaggle/input/deep-learning-practice-week-9-image-c-lassifica/test\"\n",
    "test_images = [f for f in os.listdir(test_dir) if f.endswith(('.png', '.jpg', '.jpeg'))]\n"
   ]
  },
  {
   "cell_type": "code",
   "execution_count": null,
   "metadata": {
    "execution": {
     "iopub.status.busy": "2025-03-19T07:49:11.756874Z",
     "iopub.status.idle": "2025-03-19T07:49:11.757242Z",
     "shell.execute_reply": "2025-03-19T07:49:11.757115Z"
    },
    "trusted": true
   },
   "outputs": [],
   "source": [
    "\n",
    "class TestDataset(torch.utils.data.Dataset):\n",
    "    def __init__(self, folder_path, transform=None):\n",
    "        self.folder_path = folder_path\n",
    "        self.image_names = sorted(os.listdir(folder_path)) \n",
    "        self.transform = transform\n",
    "\n",
    "    def __len__(self):\n",
    "        return len(self.image_names) # Return total number of images\n",
    "\n",
    "    def __getitem__(self, idx):\n",
    "        img_path = os.path.join(self.folder_path, self.image_names[idx])\n",
    "        image = datasets.folder.default_loader(img_path) \n",
    "        if self.transform:\n",
    "            image = self.transform(image)\n",
    "        return image, self.image_names[idx]"
   ]
  },
  {
   "cell_type": "code",
   "execution_count": null,
   "metadata": {
    "execution": {
     "iopub.status.busy": "2025-03-19T07:49:11.757971Z",
     "iopub.status.idle": "2025-03-19T07:49:11.758270Z",
     "shell.execute_reply": "2025-03-19T07:49:11.758149Z"
    },
    "trusted": true
   },
   "outputs": [],
   "source": [
    "test_dataset = TestDataset(\"/kaggle/input/deep-learning-practice-week-9-image-c-lassifica/test\", transform=transform_test)\n",
    "test_loader = DataLoader(test_dataset, batch_size=64, shuffle=False)\n"
   ]
  },
  {
   "cell_type": "markdown",
   "metadata": {},
   "source": [
    "# Predicting on Test Dataset "
   ]
  },
  {
   "cell_type": "code",
   "execution_count": null,
   "metadata": {
    "execution": {
     "iopub.status.busy": "2025-03-19T07:49:11.759025Z",
     "iopub.status.idle": "2025-03-19T07:49:11.759336Z",
     "shell.execute_reply": "2025-03-19T07:49:11.759227Z"
    },
    "trusted": true
   },
   "outputs": [],
   "source": [
    "def predict_test(model, test_loader):\n",
    "    model.eval()\n",
    "    predictions = []\n",
    "\n",
    "    with torch.no_grad():\n",
    "        for images, filenames in tqdm(test_loader): # Iterate over test data\n",
    "            images = images.to(device)\n",
    "            outputs = model(images)  # Get model predictions\n",
    "            _, preds = torch.max(outputs, 1)\n",
    "            predictions.extend(zip(filenames, preds.cpu().numpy()))\n",
    "\n",
    "    return predictions"
   ]
  },
  {
   "cell_type": "markdown",
   "metadata": {},
   "source": [
    "# Saving the Submission"
   ]
  },
  {
   "cell_type": "code",
   "execution_count": null,
   "metadata": {
    "execution": {
     "iopub.status.busy": "2025-03-19T07:49:11.760169Z",
     "iopub.status.idle": "2025-03-19T07:49:11.760464Z",
     "shell.execute_reply": "2025-03-19T07:49:11.760349Z"
    },
    "trusted": true
   },
   "outputs": [],
   "source": [
    "def save_submission(predictions, image_names):\n",
    "   \n",
    "    if isinstance(predictions[0], tuple):  \n",
    "        predictions = [pred[1] for pred in predictions]  \n",
    "\n",
    "    df = pd.DataFrame({\"Image_ID\": [img.split('.')[0] for img in image_names], \"Label\": predictions})\n",
    "    df.to_csv(\"21F3000728.csv\", index=False)\n",
    "\n",
    "\n",
    "predictions = predict_test(model, test_loader)\n",
    "save_submission(predictions, test_dataset.image_names)\n"
   ]
  }
 ],
 "metadata": {
  "kaggle": {
   "accelerator": "none",
   "dataSources": [
    {
     "databundleVersionId": 11298874,
     "sourceId": 95041,
     "sourceType": "competition"
    }
   ],
   "dockerImageVersionId": 30919,
   "isGpuEnabled": false,
   "isInternetEnabled": true,
   "language": "python",
   "sourceType": "notebook"
  },
  "kernelspec": {
   "display_name": "Python 3",
   "language": "python",
   "name": "python3"
  },
  "language_info": {
   "codemirror_mode": {
    "name": "ipython",
    "version": 3
   },
   "file_extension": ".py",
   "mimetype": "text/x-python",
   "name": "python",
   "nbconvert_exporter": "python",
   "pygments_lexer": "ipython3",
   "version": "3.10.12"
  }
 },
 "nbformat": 4,
 "nbformat_minor": 4
}
