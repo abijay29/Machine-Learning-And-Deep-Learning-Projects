{
 "cells": [
  {
   "cell_type": "code",
   "execution_count": 1,
   "id": "8db6a507",
   "metadata": {
    "_cell_guid": "b1076dfc-b9ad-4769-8c92-a6c4dae69d19",
    "_uuid": "8f2839f25d086af736a60e9eeb907d3b93b6e0e5",
    "execution": {
     "iopub.execute_input": "2023-08-13T18:02:25.588084Z",
     "iopub.status.busy": "2023-08-13T18:02:25.587680Z",
     "iopub.status.idle": "2023-08-13T18:02:27.102274Z",
     "shell.execute_reply": "2023-08-13T18:02:27.100792Z"
    },
    "papermill": {
     "duration": 1.52822,
     "end_time": "2023-08-13T18:02:27.104330",
     "exception": false,
     "start_time": "2023-08-13T18:02:25.576110",
     "status": "completed"
    },
    "tags": []
   },
   "outputs": [
    {
     "name": "stdout",
     "output_type": "stream",
     "text": [
      "/kaggle/input/sentiment-prediction-on-movie-reviews/movies.csv\n",
      "/kaggle/input/sentiment-prediction-on-movie-reviews/sample.csv\n",
      "/kaggle/input/sentiment-prediction-on-movie-reviews/train.csv\n",
      "/kaggle/input/sentiment-prediction-on-movie-reviews/test.csv\n"
     ]
    }
   ],
   "source": [
    "# This Python 3 environment comes with many helpful analytics libraries installed\n",
    "# It is defined by the kaggle/python Docker image: https://github.com/kaggle/docker-python\n",
    "# For example, here's several helpful packages to load\n",
    "\n",
    "import numpy as np # linear algebra\n",
    "import pandas as pd # data processing, CSV file I/O (e.g. pd.read_csv)\n",
    "import seaborn as sns\n",
    "import matplotlib.pyplot as plt\n",
    "import warnings\n",
    "warnings.filterwarnings('ignore')\n",
    "np.random.seed(42)\n",
    "# Input data files are available in the read-only \"../input/\" directory\n",
    "# For example, running this (by clicking run or pressing Shift+Enter) will list all files under the input directory\n",
    "\n",
    "import os\n",
    "for dirname, _, filenames in os.walk('/kaggle/input'):\n",
    "    for filename in filenames:\n",
    "        print(os.path.join(dirname, filename))\n",
    "\n",
    "# You can write up to 20GB to the current directory (/kaggle/working/) that gets preserved as output when you create a version using \"Save & Run All\" \n",
    "# You can also write temporary files to /kaggle/temp/, but they won't be saved outside of the current session"
   ]
  },
  {
   "cell_type": "markdown",
   "id": "ac86e0a7",
   "metadata": {
    "papermill": {
     "duration": 0.006961,
     "end_time": "2023-08-13T18:02:27.119112",
     "exception": false,
     "start_time": "2023-08-13T18:02:27.112151",
     "status": "completed"
    },
    "tags": []
   },
   "source": [
    "#  **Loading the Datasets** "
   ]
  },
  {
   "cell_type": "code",
   "execution_count": 2,
   "id": "84129965",
   "metadata": {
    "execution": {
     "iopub.execute_input": "2023-08-13T18:02:27.135240Z",
     "iopub.status.busy": "2023-08-13T18:02:27.134847Z",
     "iopub.status.idle": "2023-08-13T18:02:28.725223Z",
     "shell.execute_reply": "2023-08-13T18:02:28.723926Z"
    },
    "papermill": {
     "duration": 1.601577,
     "end_time": "2023-08-13T18:02:28.727910",
     "exception": false,
     "start_time": "2023-08-13T18:02:27.126333",
     "status": "completed"
    },
    "tags": []
   },
   "outputs": [],
   "source": [
    "#reading the datasets\n",
    "train = pd.read_csv('/kaggle/input/sentiment-prediction-on-movie-reviews/train.csv', encoding = \"ISO-8859-1\")\n",
    "test= pd.read_csv('/kaggle/input/sentiment-prediction-on-movie-reviews/test.csv', encoding = \"ISO-8859-1\")\n",
    "movies = pd.read_csv(\"/kaggle/input/sentiment-prediction-on-movie-reviews/movies.csv\")"
   ]
  },
  {
   "cell_type": "markdown",
   "id": "d2b1c103",
   "metadata": {
    "papermill": {
     "duration": 0.007155,
     "end_time": "2023-08-13T18:02:28.742700",
     "exception": false,
     "start_time": "2023-08-13T18:02:28.735545",
     "status": "completed"
    },
    "tags": []
   },
   "source": [
    "# **Importing required Libraries**"
   ]
  },
  {
   "cell_type": "code",
   "execution_count": 3,
   "id": "bc8c1c62",
   "metadata": {
    "execution": {
     "iopub.execute_input": "2023-08-13T18:02:28.759661Z",
     "iopub.status.busy": "2023-08-13T18:02:28.759257Z",
     "iopub.status.idle": "2023-08-13T18:02:29.520881Z",
     "shell.execute_reply": "2023-08-13T18:02:29.519449Z"
    },
    "papermill": {
     "duration": 0.773682,
     "end_time": "2023-08-13T18:02:29.523911",
     "exception": false,
     "start_time": "2023-08-13T18:02:28.750229",
     "status": "completed"
    },
    "tags": []
   },
   "outputs": [],
   "source": [
    "from sklearn.preprocessing import OrdinalEncoder,StandardScaler\n",
    "from sklearn.impute import SimpleImputer\n",
    "from sklearn.pipeline import Pipeline\n",
    "from sklearn.feature_extraction.text import TfidfVectorizer\n",
    "from sklearn.model_selection import train_test_split\n",
    "from sklearn.linear_model import LogisticRegression\n",
    "from sklearn.ensemble import RandomForestClassifier\n",
    "from sklearn.naive_bayes import MultinomialNB\n",
    "from sklearn.svm import LinearSVC\n",
    "from sklearn.metrics import f1_score"
   ]
  },
  {
   "cell_type": "markdown",
   "id": "4cebcf72",
   "metadata": {
    "papermill": {
     "duration": 0.007661,
     "end_time": "2023-08-13T18:02:29.542214",
     "exception": false,
     "start_time": "2023-08-13T18:02:29.534553",
     "status": "completed"
    },
    "tags": []
   },
   "source": [
    "# **Exploratory Data Analysis**"
   ]
  },
  {
   "cell_type": "code",
   "execution_count": 4,
   "id": "afbad979",
   "metadata": {
    "execution": {
     "iopub.execute_input": "2023-08-13T18:02:29.566531Z",
     "iopub.status.busy": "2023-08-13T18:02:29.566140Z",
     "iopub.status.idle": "2023-08-13T18:02:29.574778Z",
     "shell.execute_reply": "2023-08-13T18:02:29.573418Z"
    },
    "papermill": {
     "duration": 0.023416,
     "end_time": "2023-08-13T18:02:29.576900",
     "exception": false,
     "start_time": "2023-08-13T18:02:29.553484",
     "status": "completed"
    },
    "tags": []
   },
   "outputs": [
    {
     "data": {
      "text/plain": [
       "(143258, 14)"
      ]
     },
     "execution_count": 4,
     "metadata": {},
     "output_type": "execute_result"
    }
   ],
   "source": [
    "movies.shape #fetching the no.of rows and columns of movies dataset "
   ]
  },
  {
   "cell_type": "markdown",
   "id": "a0d2e471",
   "metadata": {
    "papermill": {
     "duration": 0.007368,
     "end_time": "2023-08-13T18:02:29.592209",
     "exception": false,
     "start_time": "2023-08-13T18:02:29.584841",
     "status": "completed"
    },
    "tags": []
   },
   "source": [
    "**Movies** dataset has **14 columns** which includes the following:\n",
    "\n",
    "**1.movieid** : id of the movie\n",
    "\n",
    "**2.title** : title of the movie\n",
    "\n",
    "**3.audienceScore** : score given by the audience for the movie\n",
    "\n",
    "**4.rating** : rating for the movie \n",
    "\n",
    "**5.ratingContents** : describes the minimum maturity level of content in movie\n",
    "\n",
    "**6.releaseDateTheaters** : date of the release of movies in theatre\n",
    "\n",
    "**7.releaseDateStreaming** : date of the release of movies in streaming platform\n",
    "\n",
    "**8.runtimeMinutes** : runtime of the movie in minutes\n",
    "\n",
    "**9.genre** : genre of the movie\n",
    "\n",
    "**10.originalLanguage** : the language in which the movie was originally made.\n",
    "\n",
    "**11.director** : director of the movie\n",
    "\n",
    "**12.distributor** : distributor of the movie\n",
    "\n",
    "**13.soundType** : soundtype used in the movie"
   ]
  },
  {
   "cell_type": "code",
   "execution_count": 5,
   "id": "1960c2c5",
   "metadata": {
    "execution": {
     "iopub.execute_input": "2023-08-13T18:02:29.609399Z",
     "iopub.status.busy": "2023-08-13T18:02:29.609036Z",
     "iopub.status.idle": "2023-08-13T18:02:29.644163Z",
     "shell.execute_reply": "2023-08-13T18:02:29.642649Z"
    },
    "papermill": {
     "duration": 0.046942,
     "end_time": "2023-08-13T18:02:29.646934",
     "exception": false,
     "start_time": "2023-08-13T18:02:29.599992",
     "status": "completed"
    },
    "tags": []
   },
   "outputs": [
    {
     "data": {
      "text/html": [
       "<div>\n",
       "<style scoped>\n",
       "    .dataframe tbody tr th:only-of-type {\n",
       "        vertical-align: middle;\n",
       "    }\n",
       "\n",
       "    .dataframe tbody tr th {\n",
       "        vertical-align: top;\n",
       "    }\n",
       "\n",
       "    .dataframe thead th {\n",
       "        text-align: right;\n",
       "    }\n",
       "</style>\n",
       "<table border=\"1\" class=\"dataframe\">\n",
       "  <thead>\n",
       "    <tr style=\"text-align: right;\">\n",
       "      <th></th>\n",
       "      <th>movieid</th>\n",
       "      <th>title</th>\n",
       "      <th>audienceScore</th>\n",
       "      <th>rating</th>\n",
       "      <th>ratingContents</th>\n",
       "      <th>releaseDateTheaters</th>\n",
       "      <th>releaseDateStreaming</th>\n",
       "      <th>runtimeMinutes</th>\n",
       "      <th>genre</th>\n",
       "      <th>originalLanguage</th>\n",
       "      <th>director</th>\n",
       "      <th>boxOffice</th>\n",
       "      <th>distributor</th>\n",
       "      <th>soundType</th>\n",
       "    </tr>\n",
       "  </thead>\n",
       "  <tbody>\n",
       "    <tr>\n",
       "      <th>0</th>\n",
       "      <td>han_solo_heroic_myth_wonder_woman</td>\n",
       "      <td>Han Solo Heroic Myth Wonder Woman</td>\n",
       "      <td>50.0</td>\n",
       "      <td>NaN</td>\n",
       "      <td>NaN</td>\n",
       "      <td>NaN</td>\n",
       "      <td>2018-08-25</td>\n",
       "      <td>75.0</td>\n",
       "      <td>Comedy, Horror, Sci-fi</td>\n",
       "      <td>English</td>\n",
       "      <td>Claude Nicolet</td>\n",
       "      <td>NaN</td>\n",
       "      <td>NaN</td>\n",
       "      <td>NaN</td>\n",
       "    </tr>\n",
       "    <tr>\n",
       "      <th>1</th>\n",
       "      <td>voyage_tyler_durden_han_solo_stardust</td>\n",
       "      <td>Voyage Tyler Durden Han Solo Stardust</td>\n",
       "      <td>NaN</td>\n",
       "      <td>NaN</td>\n",
       "      <td>NaN</td>\n",
       "      <td>NaN</td>\n",
       "      <td>2020-02-11</td>\n",
       "      <td>114.0</td>\n",
       "      <td>Drama</td>\n",
       "      <td>English</td>\n",
       "      <td>Nathan Haack</td>\n",
       "      <td>NaN</td>\n",
       "      <td>NaN</td>\n",
       "      <td>NaN</td>\n",
       "    </tr>\n",
       "    <tr>\n",
       "      <th>2</th>\n",
       "      <td>norman_bates_ferris_bueller_hermione_granger_v...</td>\n",
       "      <td>Norman Bates Ferris Bueller Hermione Granger V...</td>\n",
       "      <td>43.0</td>\n",
       "      <td>NaN</td>\n",
       "      <td>NaN</td>\n",
       "      <td>NaN</td>\n",
       "      <td>NaN</td>\n",
       "      <td>120.0</td>\n",
       "      <td>Drama</td>\n",
       "      <td>Korean</td>\n",
       "      <td>Theresa Smith</td>\n",
       "      <td>NaN</td>\n",
       "      <td>NaN</td>\n",
       "      <td>NaN</td>\n",
       "    </tr>\n",
       "    <tr>\n",
       "      <th>3</th>\n",
       "      <td>elegant_hermione_granger</td>\n",
       "      <td>Elegant Hermione Granger</td>\n",
       "      <td>60.0</td>\n",
       "      <td>NaN</td>\n",
       "      <td>NaN</td>\n",
       "      <td>NaN</td>\n",
       "      <td>2020-10-23</td>\n",
       "      <td>90.0</td>\n",
       "      <td>Action, Mystery &amp; thriller</td>\n",
       "      <td>English</td>\n",
       "      <td>Donald Lewis</td>\n",
       "      <td>NaN</td>\n",
       "      <td>NaN</td>\n",
       "      <td>NaN</td>\n",
       "    </tr>\n",
       "    <tr>\n",
       "      <th>4</th>\n",
       "      <td>adventure_rocky_balboa</td>\n",
       "      <td>Adventure Rocky Balboa</td>\n",
       "      <td>70.0</td>\n",
       "      <td>NaN</td>\n",
       "      <td>NaN</td>\n",
       "      <td>NaN</td>\n",
       "      <td>2017-03-27</td>\n",
       "      <td>80.0</td>\n",
       "      <td>Fantasy, Adventure, Animation</td>\n",
       "      <td>English</td>\n",
       "      <td>Howard Simms</td>\n",
       "      <td>NaN</td>\n",
       "      <td>NaN</td>\n",
       "      <td>NaN</td>\n",
       "    </tr>\n",
       "  </tbody>\n",
       "</table>\n",
       "</div>"
      ],
      "text/plain": [
       "                                             movieid  \\\n",
       "0                  han_solo_heroic_myth_wonder_woman   \n",
       "1              voyage_tyler_durden_han_solo_stardust   \n",
       "2  norman_bates_ferris_bueller_hermione_granger_v...   \n",
       "3                           elegant_hermione_granger   \n",
       "4                             adventure_rocky_balboa   \n",
       "\n",
       "                                               title  audienceScore rating  \\\n",
       "0                  Han Solo Heroic Myth Wonder Woman           50.0    NaN   \n",
       "1              Voyage Tyler Durden Han Solo Stardust            NaN    NaN   \n",
       "2  Norman Bates Ferris Bueller Hermione Granger V...           43.0    NaN   \n",
       "3                           Elegant Hermione Granger           60.0    NaN   \n",
       "4                             Adventure Rocky Balboa           70.0    NaN   \n",
       "\n",
       "  ratingContents releaseDateTheaters releaseDateStreaming  runtimeMinutes  \\\n",
       "0            NaN                 NaN           2018-08-25            75.0   \n",
       "1            NaN                 NaN           2020-02-11           114.0   \n",
       "2            NaN                 NaN                  NaN           120.0   \n",
       "3            NaN                 NaN           2020-10-23            90.0   \n",
       "4            NaN                 NaN           2017-03-27            80.0   \n",
       "\n",
       "                           genre originalLanguage        director boxOffice  \\\n",
       "0         Comedy, Horror, Sci-fi          English  Claude Nicolet       NaN   \n",
       "1                          Drama          English    Nathan Haack       NaN   \n",
       "2                          Drama           Korean   Theresa Smith       NaN   \n",
       "3     Action, Mystery & thriller          English    Donald Lewis       NaN   \n",
       "4  Fantasy, Adventure, Animation          English    Howard Simms       NaN   \n",
       "\n",
       "  distributor soundType  \n",
       "0         NaN       NaN  \n",
       "1         NaN       NaN  \n",
       "2         NaN       NaN  \n",
       "3         NaN       NaN  \n",
       "4         NaN       NaN  "
      ]
     },
     "execution_count": 5,
     "metadata": {},
     "output_type": "execute_result"
    }
   ],
   "source": [
    "movies.head() #printing top 5 rows of movies dataset"
   ]
  },
  {
   "cell_type": "code",
   "execution_count": 6,
   "id": "2553229c",
   "metadata": {
    "execution": {
     "iopub.execute_input": "2023-08-13T18:02:29.665220Z",
     "iopub.status.busy": "2023-08-13T18:02:29.664840Z",
     "iopub.status.idle": "2023-08-13T18:02:29.672827Z",
     "shell.execute_reply": "2023-08-13T18:02:29.671487Z"
    },
    "papermill": {
     "duration": 0.019401,
     "end_time": "2023-08-13T18:02:29.674868",
     "exception": false,
     "start_time": "2023-08-13T18:02:29.655467",
     "status": "completed"
    },
    "tags": []
   },
   "outputs": [
    {
     "data": {
      "text/plain": [
       "(162758, 5)"
      ]
     },
     "execution_count": 6,
     "metadata": {},
     "output_type": "execute_result"
    }
   ],
   "source": [
    "train.shape #rows and columns of train dataset"
   ]
  },
  {
   "cell_type": "markdown",
   "id": "1c378f59",
   "metadata": {
    "papermill": {
     "duration": 0.007511,
     "end_time": "2023-08-13T18:02:29.690576",
     "exception": false,
     "start_time": "2023-08-13T18:02:29.683065",
     "status": "completed"
    },
    "tags": []
   },
   "source": [
    "Train has 5 columns which includes the following:\n",
    "\n",
    "**1.movieid** : name of the movie\n",
    "\n",
    "**2.reviewerName** : name of the reviewer\n",
    "\n",
    "**3.isFrequentReviewer** : returns boolean values as to whether the reviewer is a frequent reviewer\n",
    "\n",
    "**4.reviewText** : review given by the reviewer\n",
    "\n",
    "**5.sentiment** : positive or negative based on the review given by the reviewer\n"
   ]
  },
  {
   "cell_type": "code",
   "execution_count": 7,
   "id": "c753dea1",
   "metadata": {
    "execution": {
     "iopub.execute_input": "2023-08-13T18:02:29.708235Z",
     "iopub.status.busy": "2023-08-13T18:02:29.707881Z",
     "iopub.status.idle": "2023-08-13T18:02:29.718666Z",
     "shell.execute_reply": "2023-08-13T18:02:29.717677Z"
    },
    "papermill": {
     "duration": 0.02177,
     "end_time": "2023-08-13T18:02:29.720406",
     "exception": false,
     "start_time": "2023-08-13T18:02:29.698636",
     "status": "completed"
    },
    "tags": []
   },
   "outputs": [
    {
     "data": {
      "text/html": [
       "<div>\n",
       "<style scoped>\n",
       "    .dataframe tbody tr th:only-of-type {\n",
       "        vertical-align: middle;\n",
       "    }\n",
       "\n",
       "    .dataframe tbody tr th {\n",
       "        vertical-align: top;\n",
       "    }\n",
       "\n",
       "    .dataframe thead th {\n",
       "        text-align: right;\n",
       "    }\n",
       "</style>\n",
       "<table border=\"1\" class=\"dataframe\">\n",
       "  <thead>\n",
       "    <tr style=\"text-align: right;\">\n",
       "      <th></th>\n",
       "      <th>movieid</th>\n",
       "      <th>reviewerName</th>\n",
       "      <th>isFrequentReviewer</th>\n",
       "      <th>reviewText</th>\n",
       "      <th>sentiment</th>\n",
       "    </tr>\n",
       "  </thead>\n",
       "  <tbody>\n",
       "    <tr>\n",
       "      <th>0</th>\n",
       "      <td>marvelous_pirate</td>\n",
       "      <td>Benjamin Henry</td>\n",
       "      <td>False</td>\n",
       "      <td>Henry Selickâs first movie since 2009âs Co...</td>\n",
       "      <td>POSITIVE</td>\n",
       "    </tr>\n",
       "    <tr>\n",
       "      <th>1</th>\n",
       "      <td>tony_montana_frodo_baggins_v_rocky_balboa</td>\n",
       "      <td>Felicia Lopez</td>\n",
       "      <td>False</td>\n",
       "      <td>With a cast that reads like the Vogue Oscar pa...</td>\n",
       "      <td>NEGATIVE</td>\n",
       "    </tr>\n",
       "    <tr>\n",
       "      <th>2</th>\n",
       "      <td>darth_vader_katniss_everdeen_sorcerer_donnie_d...</td>\n",
       "      <td>Mr. Charles Burgess</td>\n",
       "      <td>True</td>\n",
       "      <td>Creed II does not give us anything but another...</td>\n",
       "      <td>POSITIVE</td>\n",
       "    </tr>\n",
       "    <tr>\n",
       "      <th>3</th>\n",
       "      <td>lara_croft_glimmer</td>\n",
       "      <td>Ryan Barrett</td>\n",
       "      <td>False</td>\n",
       "      <td>I know what you're thinking, but this is no Li...</td>\n",
       "      <td>POSITIVE</td>\n",
       "    </tr>\n",
       "    <tr>\n",
       "      <th>4</th>\n",
       "      <td>jason_bourne_surreal_the_terminator_indiana_jones</td>\n",
       "      <td>Alexander Glover</td>\n",
       "      <td>False</td>\n",
       "      <td>Director Fernando Meirelles tells the story wi...</td>\n",
       "      <td>POSITIVE</td>\n",
       "    </tr>\n",
       "  </tbody>\n",
       "</table>\n",
       "</div>"
      ],
      "text/plain": [
       "                                             movieid         reviewerName  \\\n",
       "0                                   marvelous_pirate       Benjamin Henry   \n",
       "1          tony_montana_frodo_baggins_v_rocky_balboa        Felicia Lopez   \n",
       "2  darth_vader_katniss_everdeen_sorcerer_donnie_d...  Mr. Charles Burgess   \n",
       "3                                 lara_croft_glimmer         Ryan Barrett   \n",
       "4  jason_bourne_surreal_the_terminator_indiana_jones     Alexander Glover   \n",
       "\n",
       "   isFrequentReviewer                                         reviewText  \\\n",
       "0               False  Henry Selickâs first movie since 2009âs Co...   \n",
       "1               False  With a cast that reads like the Vogue Oscar pa...   \n",
       "2                True  Creed II does not give us anything but another...   \n",
       "3               False  I know what you're thinking, but this is no Li...   \n",
       "4               False  Director Fernando Meirelles tells the story wi...   \n",
       "\n",
       "  sentiment  \n",
       "0  POSITIVE  \n",
       "1  NEGATIVE  \n",
       "2  POSITIVE  \n",
       "3  POSITIVE  \n",
       "4  POSITIVE  "
      ]
     },
     "execution_count": 7,
     "metadata": {},
     "output_type": "execute_result"
    }
   ],
   "source": [
    "train.head()"
   ]
  },
  {
   "cell_type": "code",
   "execution_count": 8,
   "id": "b1fe403b",
   "metadata": {
    "execution": {
     "iopub.execute_input": "2023-08-13T18:02:29.739082Z",
     "iopub.status.busy": "2023-08-13T18:02:29.738732Z",
     "iopub.status.idle": "2023-08-13T18:02:29.791499Z",
     "shell.execute_reply": "2023-08-13T18:02:29.789532Z"
    },
    "papermill": {
     "duration": 0.064818,
     "end_time": "2023-08-13T18:02:29.793715",
     "exception": false,
     "start_time": "2023-08-13T18:02:29.728897",
     "status": "completed"
    },
    "tags": []
   },
   "outputs": [],
   "source": [
    "movies.drop_duplicates(\"movieid\",inplace =True) #dropping duplicates from movies"
   ]
  },
  {
   "cell_type": "code",
   "execution_count": 9,
   "id": "dab5a427",
   "metadata": {
    "execution": {
     "iopub.execute_input": "2023-08-13T18:02:29.811975Z",
     "iopub.status.busy": "2023-08-13T18:02:29.811667Z",
     "iopub.status.idle": "2023-08-13T18:02:30.178256Z",
     "shell.execute_reply": "2023-08-13T18:02:30.176855Z"
    },
    "papermill": {
     "duration": 0.378436,
     "end_time": "2023-08-13T18:02:30.180703",
     "exception": false,
     "start_time": "2023-08-13T18:02:29.802267",
     "status": "completed"
    },
    "tags": []
   },
   "outputs": [],
   "source": [
    "# merging the datasets \n",
    "merged = pd.merge(train,movies,on='movieid',how='left')\n",
    "merged2 = pd.merge(test,movies,on='movieid',how=\"left\")\n"
   ]
  },
  {
   "cell_type": "code",
   "execution_count": 10,
   "id": "885530d3",
   "metadata": {
    "execution": {
     "iopub.execute_input": "2023-08-13T18:02:30.199488Z",
     "iopub.status.busy": "2023-08-13T18:02:30.199094Z",
     "iopub.status.idle": "2023-08-13T18:02:30.480266Z",
     "shell.execute_reply": "2023-08-13T18:02:30.478776Z"
    },
    "papermill": {
     "duration": 0.293272,
     "end_time": "2023-08-13T18:02:30.482724",
     "exception": false,
     "start_time": "2023-08-13T18:02:30.189452",
     "status": "completed"
    },
    "tags": []
   },
   "outputs": [
    {
     "data": {
      "text/plain": [
       "Text(0.5, 1.0, 'Sentiment distribution')"
      ]
     },
     "execution_count": 10,
     "metadata": {},
     "output_type": "execute_result"
    },
    {
     "data": {
      "image/png": "[encoded data removed]",
      "text/plain": [
       "<Figure size 640x480 with 1 Axes>"
      ]
     },
     "metadata": {},
     "output_type": "display_data"
    }
   ],
   "source": [
    "sns.countplot(x='sentiment', data=merged)\n",
    "plt.title(\"Sentiment distribution\")"
   ]
  },
  {
   "cell_type": "code",
   "execution_count": 11,
   "id": "d0ca8a93",
   "metadata": {
    "execution": {
     "iopub.execute_input": "2023-08-13T18:02:30.505835Z",
     "iopub.status.busy": "2023-08-13T18:02:30.505364Z",
     "iopub.status.idle": "2023-08-13T18:02:30.621780Z",
     "shell.execute_reply": "2023-08-13T18:02:30.620167Z"
    },
    "papermill": {
     "duration": 0.129987,
     "end_time": "2023-08-13T18:02:30.624348",
     "exception": false,
     "start_time": "2023-08-13T18:02:30.494361",
     "status": "completed"
    },
    "tags": []
   },
   "outputs": [],
   "source": [
    "#shifting the label column to the last position\n",
    "merged = merged.iloc[:,[0,1,2,3,5,6,7,8,9,10,11,12,13,14,15,16,4]]"
   ]
  },
  {
   "cell_type": "code",
   "execution_count": 12,
   "id": "c872e0a5",
   "metadata": {
    "execution": {
     "iopub.execute_input": "2023-08-13T18:02:30.645311Z",
     "iopub.status.busy": "2023-08-13T18:02:30.644880Z",
     "iopub.status.idle": "2023-08-13T18:02:30.651769Z",
     "shell.execute_reply": "2023-08-13T18:02:30.650877Z"
    },
    "papermill": {
     "duration": 0.020093,
     "end_time": "2023-08-13T18:02:30.654344",
     "exception": false,
     "start_time": "2023-08-13T18:02:30.634251",
     "status": "completed"
    },
    "tags": []
   },
   "outputs": [
    {
     "data": {
      "text/plain": [
       "(162758, 17)"
      ]
     },
     "execution_count": 12,
     "metadata": {},
     "output_type": "execute_result"
    }
   ],
   "source": [
    "merged.shape #fetching no.of rows and columns of merged dataset"
   ]
  },
  {
   "cell_type": "code",
   "execution_count": 13,
   "id": "bc1c6afd",
   "metadata": {
    "execution": {
     "iopub.execute_input": "2023-08-13T18:02:30.674410Z",
     "iopub.status.busy": "2023-08-13T18:02:30.674006Z",
     "iopub.status.idle": "2023-08-13T18:02:31.032545Z",
     "shell.execute_reply": "2023-08-13T18:02:31.031720Z"
    },
    "papermill": {
     "duration": 0.370731,
     "end_time": "2023-08-13T18:02:31.034597",
     "exception": false,
     "start_time": "2023-08-13T18:02:30.663866",
     "status": "completed"
    },
    "tags": []
   },
   "outputs": [
    {
     "data": {
      "text/plain": [
       "movieid                     0\n",
       "reviewerName                0\n",
       "isFrequentReviewer          0\n",
       "reviewText               6447\n",
       "title                       0\n",
       "audienceScore           13248\n",
       "rating                  63724\n",
       "ratingContents          63724\n",
       "releaseDateTheaters     35834\n",
       "releaseDateStreaming    16185\n",
       "runtimeMinutes           3376\n",
       "genre                    2438\n",
       "originalLanguage         3290\n",
       "director                    0\n",
       "boxOffice               52776\n",
       "distributor             40663\n",
       "sentiment                   0\n",
       "dtype: int64"
      ]
     },
     "execution_count": 13,
     "metadata": {},
     "output_type": "execute_result"
    }
   ],
   "source": [
    "merged.isnull().sum() #checking for Null values in merged dataset"
   ]
  },
  {
   "cell_type": "code",
   "execution_count": 14,
   "id": "3f4af4c6",
   "metadata": {
    "execution": {
     "iopub.execute_input": "2023-08-13T18:02:31.054373Z",
     "iopub.status.busy": "2023-08-13T18:02:31.054036Z",
     "iopub.status.idle": "2023-08-13T18:02:31.398823Z",
     "shell.execute_reply": "2023-08-13T18:02:31.397383Z"
    },
    "papermill": {
     "duration": 0.35766,
     "end_time": "2023-08-13T18:02:31.401363",
     "exception": false,
     "start_time": "2023-08-13T18:02:31.043703",
     "status": "completed"
    },
    "tags": []
   },
   "outputs": [
    {
     "name": "stdout",
     "output_type": "stream",
     "text": [
      "<class 'pandas.core.frame.DataFrame'>\n",
      "Int64Index: 162758 entries, 0 to 162757\n",
      "Data columns (total 17 columns):\n",
      " #   Column                Non-Null Count   Dtype  \n",
      "---  ------                --------------   -----  \n",
      " 0   movieid               162758 non-null  object \n",
      " 1   reviewerName          162758 non-null  object \n",
      " 2   isFrequentReviewer    162758 non-null  bool   \n",
      " 3   reviewText            156311 non-null  object \n",
      " 4   title                 162758 non-null  object \n",
      " 5   audienceScore         149510 non-null  float64\n",
      " 6   rating                99034 non-null   object \n",
      " 7   ratingContents        99034 non-null   object \n",
      " 8   releaseDateTheaters   126924 non-null  object \n",
      " 9   releaseDateStreaming  146573 non-null  object \n",
      " 10  runtimeMinutes        159382 non-null  float64\n",
      " 11  genre                 160320 non-null  object \n",
      " 12  originalLanguage      159468 non-null  object \n",
      " 13  director              162758 non-null  object \n",
      " 14  boxOffice             109982 non-null  object \n",
      " 15  distributor           122095 non-null  object \n",
      " 16  sentiment             162758 non-null  object \n",
      "dtypes: bool(1), float64(2), object(14)\n",
      "memory usage: 21.3+ MB\n"
     ]
    }
   ],
   "source": [
    "merged.info() #datatype of each columns "
   ]
  },
  {
   "cell_type": "code",
   "execution_count": 15,
   "id": "671190d2",
   "metadata": {
    "execution": {
     "iopub.execute_input": "2023-08-13T18:02:31.422737Z",
     "iopub.status.busy": "2023-08-13T18:02:31.422350Z",
     "iopub.status.idle": "2023-08-13T18:02:31.554860Z",
     "shell.execute_reply": "2023-08-13T18:02:31.553377Z"
    },
    "papermill": {
     "duration": 0.145532,
     "end_time": "2023-08-13T18:02:31.557357",
     "exception": false,
     "start_time": "2023-08-13T18:02:31.411825",
     "status": "completed"
    },
    "tags": []
   },
   "outputs": [
    {
     "data": {
      "text/plain": [
       "movieid                     0\n",
       "reviewerName                0\n",
       "isTopCritic                 0\n",
       "reviewText               2510\n",
       "title                       0\n",
       "audienceScore            4931\n",
       "rating                  24296\n",
       "ratingContents          24296\n",
       "releaseDateTheaters     13702\n",
       "releaseDateStreaming     5974\n",
       "runtimeMinutes           1262\n",
       "genre                     920\n",
       "originalLanguage         1238\n",
       "director                    0\n",
       "boxOffice               19995\n",
       "distributor             15596\n",
       "soundType               30626\n",
       "dtype: int64"
      ]
     },
     "execution_count": 15,
     "metadata": {},
     "output_type": "execute_result"
    }
   ],
   "source": [
    "merged2.isnull().sum() #checking for Null values in merged dataset"
   ]
  },
  {
   "cell_type": "code",
   "execution_count": 16,
   "id": "c4404890",
   "metadata": {
    "execution": {
     "iopub.execute_input": "2023-08-13T18:02:31.578603Z",
     "iopub.status.busy": "2023-08-13T18:02:31.578249Z",
     "iopub.status.idle": "2023-08-13T18:02:31.615292Z",
     "shell.execute_reply": "2023-08-13T18:02:31.613749Z"
    },
    "papermill": {
     "duration": 0.050564,
     "end_time": "2023-08-13T18:02:31.617857",
     "exception": false,
     "start_time": "2023-08-13T18:02:31.567293",
     "status": "completed"
    },
    "tags": []
   },
   "outputs": [
    {
     "data": {
      "text/html": [
       "<div>\n",
       "<style scoped>\n",
       "    .dataframe tbody tr th:only-of-type {\n",
       "        vertical-align: middle;\n",
       "    }\n",
       "\n",
       "    .dataframe tbody tr th {\n",
       "        vertical-align: top;\n",
       "    }\n",
       "\n",
       "    .dataframe thead th {\n",
       "        text-align: right;\n",
       "    }\n",
       "</style>\n",
       "<table border=\"1\" class=\"dataframe\">\n",
       "  <thead>\n",
       "    <tr style=\"text-align: right;\">\n",
       "      <th></th>\n",
       "      <th>audienceScore</th>\n",
       "      <th>runtimeMinutes</th>\n",
       "    </tr>\n",
       "  </thead>\n",
       "  <tbody>\n",
       "    <tr>\n",
       "      <th>count</th>\n",
       "      <td>149510.000000</td>\n",
       "      <td>159382.000000</td>\n",
       "    </tr>\n",
       "    <tr>\n",
       "      <th>mean</th>\n",
       "      <td>65.214541</td>\n",
       "      <td>106.911828</td>\n",
       "    </tr>\n",
       "    <tr>\n",
       "      <th>std</th>\n",
       "      <td>19.937695</td>\n",
       "      <td>22.138131</td>\n",
       "    </tr>\n",
       "    <tr>\n",
       "      <th>min</th>\n",
       "      <td>0.000000</td>\n",
       "      <td>4.000000</td>\n",
       "    </tr>\n",
       "    <tr>\n",
       "      <th>25%</th>\n",
       "      <td>51.000000</td>\n",
       "      <td>93.000000</td>\n",
       "    </tr>\n",
       "    <tr>\n",
       "      <th>50%</th>\n",
       "      <td>68.000000</td>\n",
       "      <td>104.000000</td>\n",
       "    </tr>\n",
       "    <tr>\n",
       "      <th>75%</th>\n",
       "      <td>82.000000</td>\n",
       "      <td>118.000000</td>\n",
       "    </tr>\n",
       "    <tr>\n",
       "      <th>max</th>\n",
       "      <td>100.000000</td>\n",
       "      <td>561.000000</td>\n",
       "    </tr>\n",
       "  </tbody>\n",
       "</table>\n",
       "</div>"
      ],
      "text/plain": [
       "       audienceScore  runtimeMinutes\n",
       "count  149510.000000   159382.000000\n",
       "mean       65.214541      106.911828\n",
       "std        19.937695       22.138131\n",
       "min         0.000000        4.000000\n",
       "25%        51.000000       93.000000\n",
       "50%        68.000000      104.000000\n",
       "75%        82.000000      118.000000\n",
       "max       100.000000      561.000000"
      ]
     },
     "execution_count": 16,
     "metadata": {},
     "output_type": "execute_result"
    }
   ],
   "source": [
    "merged.describe()"
   ]
  },
  {
   "cell_type": "markdown",
   "id": "92cb27a5",
   "metadata": {
    "papermill": {
     "duration": 0.009763,
     "end_time": "2023-08-13T18:02:31.637666",
     "exception": false,
     "start_time": "2023-08-13T18:02:31.627903",
     "status": "completed"
    },
    "tags": []
   },
   "source": [
    "# **Feature Selection**"
   ]
  },
  {
   "cell_type": "code",
   "execution_count": 17,
   "id": "8320ac64",
   "metadata": {
    "execution": {
     "iopub.execute_input": "2023-08-13T18:02:31.660222Z",
     "iopub.status.busy": "2023-08-13T18:02:31.659800Z",
     "iopub.status.idle": "2023-08-13T18:02:34.049793Z",
     "shell.execute_reply": "2023-08-13T18:02:34.048371Z"
    },
    "papermill": {
     "duration": 2.405293,
     "end_time": "2023-08-13T18:02:34.053030",
     "exception": false,
     "start_time": "2023-08-13T18:02:31.647737",
     "status": "completed"
    },
    "tags": []
   },
   "outputs": [
    {
     "data": {
      "text/html": [
       "<div>\n",
       "<style scoped>\n",
       "    .dataframe tbody tr th:only-of-type {\n",
       "        vertical-align: middle;\n",
       "    }\n",
       "\n",
       "    .dataframe tbody tr th {\n",
       "        vertical-align: top;\n",
       "    }\n",
       "\n",
       "    .dataframe thead th {\n",
       "        text-align: right;\n",
       "    }\n",
       "</style>\n",
       "<table border=\"1\" class=\"dataframe\">\n",
       "  <thead>\n",
       "    <tr style=\"text-align: right;\">\n",
       "      <th></th>\n",
       "      <th>movieid</th>\n",
       "      <th>reviewerName</th>\n",
       "      <th>isFrequentReviewer</th>\n",
       "      <th>reviewText</th>\n",
       "      <th>title</th>\n",
       "      <th>audienceScore</th>\n",
       "      <th>rating</th>\n",
       "      <th>ratingContents</th>\n",
       "      <th>releaseDateTheaters</th>\n",
       "      <th>releaseDateStreaming</th>\n",
       "      <th>runtimeMinutes</th>\n",
       "      <th>genre</th>\n",
       "      <th>originalLanguage</th>\n",
       "      <th>director</th>\n",
       "      <th>boxOffice</th>\n",
       "      <th>distributor</th>\n",
       "      <th>sentiment</th>\n",
       "    </tr>\n",
       "  </thead>\n",
       "  <tbody>\n",
       "    <tr>\n",
       "      <th>0</th>\n",
       "      <td>10191.0</td>\n",
       "      <td>457.0</td>\n",
       "      <td>0.0</td>\n",
       "      <td>54766.0</td>\n",
       "      <td>10191.0</td>\n",
       "      <td>62.0</td>\n",
       "      <td>2.0</td>\n",
       "      <td>4333.0</td>\n",
       "      <td>4176.0</td>\n",
       "      <td>2824.0</td>\n",
       "      <td>6.0</td>\n",
       "      <td>268.0</td>\n",
       "      <td>18.0</td>\n",
       "      <td>723.0</td>\n",
       "      <td>3526.0</td>\n",
       "      <td>983.0</td>\n",
       "      <td>1.0</td>\n",
       "    </tr>\n",
       "    <tr>\n",
       "      <th>1</th>\n",
       "      <td>14323.0</td>\n",
       "      <td>1514.0</td>\n",
       "      <td>0.0</td>\n",
       "      <td>146614.0</td>\n",
       "      <td>14323.0</td>\n",
       "      <td>100.0</td>\n",
       "      <td>7.0</td>\n",
       "      <td>4477.0</td>\n",
       "      <td>4226.0</td>\n",
       "      <td>1025.0</td>\n",
       "      <td>207.0</td>\n",
       "      <td>0.0</td>\n",
       "      <td>18.0</td>\n",
       "      <td>200.0</td>\n",
       "      <td>3526.0</td>\n",
       "      <td>1610.0</td>\n",
       "      <td>0.0</td>\n",
       "    </tr>\n",
       "    <tr>\n",
       "      <th>2</th>\n",
       "      <td>1776.0</td>\n",
       "      <td>3150.0</td>\n",
       "      <td>1.0</td>\n",
       "      <td>38128.0</td>\n",
       "      <td>1776.0</td>\n",
       "      <td>79.0</td>\n",
       "      <td>2.0</td>\n",
       "      <td>1171.0</td>\n",
       "      <td>3838.0</td>\n",
       "      <td>1984.0</td>\n",
       "      <td>34.0</td>\n",
       "      <td>462.0</td>\n",
       "      <td>18.0</td>\n",
       "      <td>870.0</td>\n",
       "      <td>229.0</td>\n",
       "      <td>1525.0</td>\n",
       "      <td>1.0</td>\n",
       "    </tr>\n",
       "    <tr>\n",
       "      <th>3</th>\n",
       "      <td>9147.0</td>\n",
       "      <td>3675.0</td>\n",
       "      <td>0.0</td>\n",
       "      <td>57615.0</td>\n",
       "      <td>9147.0</td>\n",
       "      <td>100.0</td>\n",
       "      <td>7.0</td>\n",
       "      <td>4477.0</td>\n",
       "      <td>4226.0</td>\n",
       "      <td>2292.0</td>\n",
       "      <td>55.0</td>\n",
       "      <td>462.0</td>\n",
       "      <td>72.0</td>\n",
       "      <td>2782.0</td>\n",
       "      <td>3526.0</td>\n",
       "      <td>1610.0</td>\n",
       "      <td>1.0</td>\n",
       "    </tr>\n",
       "    <tr>\n",
       "      <th>4</th>\n",
       "      <td>8349.0</td>\n",
       "      <td>95.0</td>\n",
       "      <td>0.0</td>\n",
       "      <td>41389.0</td>\n",
       "      <td>8349.0</td>\n",
       "      <td>97.0</td>\n",
       "      <td>3.0</td>\n",
       "      <td>1507.0</td>\n",
       "      <td>2443.0</td>\n",
       "      <td>387.0</td>\n",
       "      <td>35.0</td>\n",
       "      <td>367.0</td>\n",
       "      <td>64.0</td>\n",
       "      <td>4523.0</td>\n",
       "      <td>2928.0</td>\n",
       "      <td>939.0</td>\n",
       "      <td>1.0</td>\n",
       "    </tr>\n",
       "    <tr>\n",
       "      <th>...</th>\n",
       "      <td>...</td>\n",
       "      <td>...</td>\n",
       "      <td>...</td>\n",
       "      <td>...</td>\n",
       "      <td>...</td>\n",
       "      <td>...</td>\n",
       "      <td>...</td>\n",
       "      <td>...</td>\n",
       "      <td>...</td>\n",
       "      <td>...</td>\n",
       "      <td>...</td>\n",
       "      <td>...</td>\n",
       "      <td>...</td>\n",
       "      <td>...</td>\n",
       "      <td>...</td>\n",
       "      <td>...</td>\n",
       "      <td>...</td>\n",
       "    </tr>\n",
       "    <tr>\n",
       "      <th>162753</th>\n",
       "      <td>14040.0</td>\n",
       "      <td>1090.0</td>\n",
       "      <td>0.0</td>\n",
       "      <td>18205.0</td>\n",
       "      <td>14040.0</td>\n",
       "      <td>100.0</td>\n",
       "      <td>7.0</td>\n",
       "      <td>4477.0</td>\n",
       "      <td>4226.0</td>\n",
       "      <td>356.0</td>\n",
       "      <td>212.0</td>\n",
       "      <td>1022.0</td>\n",
       "      <td>18.0</td>\n",
       "      <td>3234.0</td>\n",
       "      <td>3526.0</td>\n",
       "      <td>1610.0</td>\n",
       "      <td>1.0</td>\n",
       "    </tr>\n",
       "    <tr>\n",
       "      <th>162754</th>\n",
       "      <td>2663.0</td>\n",
       "      <td>1918.0</td>\n",
       "      <td>1.0</td>\n",
       "      <td>101766.0</td>\n",
       "      <td>2663.0</td>\n",
       "      <td>13.0</td>\n",
       "      <td>2.0</td>\n",
       "      <td>372.0</td>\n",
       "      <td>3603.0</td>\n",
       "      <td>1343.0</td>\n",
       "      <td>3.0</td>\n",
       "      <td>259.0</td>\n",
       "      <td>18.0</td>\n",
       "      <td>8552.0</td>\n",
       "      <td>1434.0</td>\n",
       "      <td>1059.0</td>\n",
       "      <td>0.0</td>\n",
       "    </tr>\n",
       "    <tr>\n",
       "      <th>162755</th>\n",
       "      <td>7271.0</td>\n",
       "      <td>663.0</td>\n",
       "      <td>0.0</td>\n",
       "      <td>129962.0</td>\n",
       "      <td>7271.0</td>\n",
       "      <td>76.0</td>\n",
       "      <td>2.0</td>\n",
       "      <td>3239.0</td>\n",
       "      <td>4226.0</td>\n",
       "      <td>2758.0</td>\n",
       "      <td>206.0</td>\n",
       "      <td>282.0</td>\n",
       "      <td>18.0</td>\n",
       "      <td>1062.0</td>\n",
       "      <td>3526.0</td>\n",
       "      <td>1610.0</td>\n",
       "      <td>1.0</td>\n",
       "    </tr>\n",
       "    <tr>\n",
       "      <th>162756</th>\n",
       "      <td>3300.0</td>\n",
       "      <td>1479.0</td>\n",
       "      <td>0.0</td>\n",
       "      <td>114030.0</td>\n",
       "      <td>3300.0</td>\n",
       "      <td>33.0</td>\n",
       "      <td>7.0</td>\n",
       "      <td>4477.0</td>\n",
       "      <td>1860.0</td>\n",
       "      <td>52.0</td>\n",
       "      <td>203.0</td>\n",
       "      <td>868.0</td>\n",
       "      <td>18.0</td>\n",
       "      <td>5596.0</td>\n",
       "      <td>2659.0</td>\n",
       "      <td>4.0</td>\n",
       "      <td>0.0</td>\n",
       "    </tr>\n",
       "    <tr>\n",
       "      <th>162757</th>\n",
       "      <td>8237.0</td>\n",
       "      <td>1694.0</td>\n",
       "      <td>0.0</td>\n",
       "      <td>14181.0</td>\n",
       "      <td>8237.0</td>\n",
       "      <td>53.0</td>\n",
       "      <td>3.0</td>\n",
       "      <td>1859.0</td>\n",
       "      <td>3106.0</td>\n",
       "      <td>777.0</td>\n",
       "      <td>201.0</td>\n",
       "      <td>741.0</td>\n",
       "      <td>18.0</td>\n",
       "      <td>7183.0</td>\n",
       "      <td>134.0</td>\n",
       "      <td>1059.0</td>\n",
       "      <td>1.0</td>\n",
       "    </tr>\n",
       "  </tbody>\n",
       "</table>\n",
       "<p>162758 rows × 17 columns</p>\n",
       "</div>"
      ],
      "text/plain": [
       "        movieid  reviewerName  isFrequentReviewer  reviewText    title  \\\n",
       "0       10191.0         457.0                 0.0     54766.0  10191.0   \n",
       "1       14323.0        1514.0                 0.0    146614.0  14323.0   \n",
       "2        1776.0        3150.0                 1.0     38128.0   1776.0   \n",
       "3        9147.0        3675.0                 0.0     57615.0   9147.0   \n",
       "4        8349.0          95.0                 0.0     41389.0   8349.0   \n",
       "...         ...           ...                 ...         ...      ...   \n",
       "162753  14040.0        1090.0                 0.0     18205.0  14040.0   \n",
       "162754   2663.0        1918.0                 1.0    101766.0   2663.0   \n",
       "162755   7271.0         663.0                 0.0    129962.0   7271.0   \n",
       "162756   3300.0        1479.0                 0.0    114030.0   3300.0   \n",
       "162757   8237.0        1694.0                 0.0     14181.0   8237.0   \n",
       "\n",
       "        audienceScore  rating  ratingContents  releaseDateTheaters  \\\n",
       "0                62.0     2.0          4333.0               4176.0   \n",
       "1               100.0     7.0          4477.0               4226.0   \n",
       "2                79.0     2.0          1171.0               3838.0   \n",
       "3               100.0     7.0          4477.0               4226.0   \n",
       "4                97.0     3.0          1507.0               2443.0   \n",
       "...               ...     ...             ...                  ...   \n",
       "162753          100.0     7.0          4477.0               4226.0   \n",
       "162754           13.0     2.0           372.0               3603.0   \n",
       "162755           76.0     2.0          3239.0               4226.0   \n",
       "162756           33.0     7.0          4477.0               1860.0   \n",
       "162757           53.0     3.0          1859.0               3106.0   \n",
       "\n",
       "        releaseDateStreaming  runtimeMinutes   genre  originalLanguage  \\\n",
       "0                     2824.0             6.0   268.0              18.0   \n",
       "1                     1025.0           207.0     0.0              18.0   \n",
       "2                     1984.0            34.0   462.0              18.0   \n",
       "3                     2292.0            55.0   462.0              72.0   \n",
       "4                      387.0            35.0   367.0              64.0   \n",
       "...                      ...             ...     ...               ...   \n",
       "162753                 356.0           212.0  1022.0              18.0   \n",
       "162754                1343.0             3.0   259.0              18.0   \n",
       "162755                2758.0           206.0   282.0              18.0   \n",
       "162756                  52.0           203.0   868.0              18.0   \n",
       "162757                 777.0           201.0   741.0              18.0   \n",
       "\n",
       "        director  boxOffice  distributor  sentiment  \n",
       "0          723.0     3526.0        983.0        1.0  \n",
       "1          200.0     3526.0       1610.0        0.0  \n",
       "2          870.0      229.0       1525.0        1.0  \n",
       "3         2782.0     3526.0       1610.0        1.0  \n",
       "4         4523.0     2928.0        939.0        1.0  \n",
       "...          ...        ...          ...        ...  \n",
       "162753    3234.0     3526.0       1610.0        1.0  \n",
       "162754    8552.0     1434.0       1059.0        0.0  \n",
       "162755    1062.0     3526.0       1610.0        1.0  \n",
       "162756    5596.0     2659.0          4.0        0.0  \n",
       "162757    7183.0      134.0       1059.0        1.0  \n",
       "\n",
       "[162758 rows x 17 columns]"
      ]
     },
     "execution_count": 17,
     "metadata": {},
     "output_type": "execute_result"
    }
   ],
   "source": [
    "# using simple imputer and ordinal encoder on merged to plot correlation matrix \n",
    "\n",
    "\n",
    "\n",
    "pipe = Pipeline([('impute',SimpleImputer(strategy = 'constant')),('encode',OrdinalEncoder(handle_unknown = 'use_encoded_value',unknown_value=np.nan))])\n",
    "\n",
    "encoded = pipe.fit_transform(merged.astype(str))\n",
    "encode =pd.DataFrame(np.matrix(encoded))\n",
    "encode.columns = merged.columns.values\n",
    "encode\n"
   ]
  },
  {
   "cell_type": "code",
   "execution_count": 18,
   "id": "4fa08d4b",
   "metadata": {
    "execution": {
     "iopub.execute_input": "2023-08-13T18:02:34.077258Z",
     "iopub.status.busy": "2023-08-13T18:02:34.076920Z",
     "iopub.status.idle": "2023-08-13T18:02:35.647453Z",
     "shell.execute_reply": "2023-08-13T18:02:35.646646Z"
    },
    "papermill": {
     "duration": 1.585163,
     "end_time": "2023-08-13T18:02:35.650203",
     "exception": false,
     "start_time": "2023-08-13T18:02:34.065040",
     "status": "completed"
    },
    "tags": []
   },
   "outputs": [
    {
     "data": {
      "image/png": "[encoded data removed]",
      "text/plain": [
       "<Figure size 2000x2000 with 2 Axes>"
      ]
     },
     "metadata": {},
     "output_type": "display_data"
    }
   ],
   "source": [
    "#plotting correlation matrix to extract best features\n",
    "corrmat = encode.corr()\n",
    "top_corr_features = corrmat.index\n",
    "plt.figure(figsize=(20,20))\n",
    "g=sns.heatmap(encode[top_corr_features].corr(),annot=True,cmap=\"RdYlGn\")"
   ]
  },
  {
   "cell_type": "markdown",
   "id": "48b93df6",
   "metadata": {
    "papermill": {
     "duration": 0.013361,
     "end_time": "2023-08-13T18:02:35.677520",
     "exception": false,
     "start_time": "2023-08-13T18:02:35.664159",
     "status": "completed"
    },
    "tags": []
   },
   "source": [
    "# **Preprocessing the feature columns for training the model**"
   ]
  },
  {
   "cell_type": "code",
   "execution_count": 19,
   "id": "70bbce36",
   "metadata": {
    "execution": {
     "iopub.execute_input": "2023-08-13T18:02:35.705701Z",
     "iopub.status.busy": "2023-08-13T18:02:35.705263Z",
     "iopub.status.idle": "2023-08-13T18:02:35.713948Z",
     "shell.execute_reply": "2023-08-13T18:02:35.712945Z"
    },
    "papermill": {
     "duration": 0.025447,
     "end_time": "2023-08-13T18:02:35.716212",
     "exception": false,
     "start_time": "2023-08-13T18:02:35.690765",
     "status": "completed"
    },
    "tags": []
   },
   "outputs": [],
   "source": [
    "def data_preprocess(data,train =True):\n",
    "    \n",
    "    #converting the letters in reviewText to lower case\n",
    "    data['reviewText'] = data['reviewText'].str.lower()\n",
    "    #removing </ from reviewText \n",
    "    data['reviewText'] = data['reviewText'].str.replace('</','',regex =True)\n",
    "    #removing text with link address\n",
    "    data['reviewText'] = data['reviewText'].str.replace('https\\S+|www\\S+|http\\S+','',regex = True) \n",
    "    #removing extra characters \n",
    "    data['reviewText'] = data['reviewText'].str.replace('\\\\&\\\\#[0-9]{1,4}\\\\;', '', regex = True)\n",
    "    data['reviewText'] = data['reviewText'].str.replace('\\\\&[a-z]{2,10}\\\\;', '', regex = True)\n",
    "    data['reviewText'] = data['reviewText'].str.replace('^\\\\.+',' ',regex = True)\n",
    "    #removing the words with alphabet occuring consecutively\n",
    "    data['reviewText'] = data['reviewText'].str.replace('\\\\S*(\\\\S)\\\\1\\\\1\\\\S*\\\\s?','',regex =True)\n",
    "    #converting releasedatestreaming to month,year,date format\n",
    "    data['releaseDateStreaming'] = pd.to_datetime(data['releaseDateStreaming'])\n",
    "    data['date_year'] = data['releaseDateStreaming'].dt.year\n",
    "    data['date_month'] = data['releaseDateStreaming'].dt.month\n",
    "    data['date_day'] = data['releaseDateStreaming'].dt.day\n",
    "    \n",
    "\n",
    "    if train:\n",
    "        #removing reviewtext which is less than 2 of length\n",
    "        data = data[data['reviewText'].str.len()> 2]\n",
    "\n",
    "    return data\n",
    "\n",
    "\n",
    "\n",
    "\n",
    "      "
   ]
  },
  {
   "cell_type": "code",
   "execution_count": 20,
   "id": "8a9ef01b",
   "metadata": {
    "execution": {
     "iopub.execute_input": "2023-08-13T18:02:35.743510Z",
     "iopub.status.busy": "2023-08-13T18:02:35.743136Z",
     "iopub.status.idle": "2023-08-13T18:02:41.763340Z",
     "shell.execute_reply": "2023-08-13T18:02:41.762322Z"
    },
    "papermill": {
     "duration": 6.036756,
     "end_time": "2023-08-13T18:02:41.765872",
     "exception": false,
     "start_time": "2023-08-13T18:02:35.729116",
     "status": "completed"
    },
    "tags": []
   },
   "outputs": [],
   "source": [
    "#running merged and merged2 through preprocess function\n",
    "merged = data_preprocess(merged)\n",
    "merged2 = data_preprocess(merged2,train=False)\n"
   ]
  },
  {
   "cell_type": "markdown",
   "id": "c4758fd0",
   "metadata": {
    "papermill": {
     "duration": 0.013113,
     "end_time": "2023-08-13T18:02:41.792635",
     "exception": false,
     "start_time": "2023-08-13T18:02:41.779522",
     "status": "completed"
    },
    "tags": []
   },
   "source": [
    "# **Assigning x and y for splitting and training the model**\n"
   ]
  },
  {
   "cell_type": "code",
   "execution_count": 21,
   "id": "7930a4fb",
   "metadata": {
    "execution": {
     "iopub.execute_input": "2023-08-13T18:02:41.820780Z",
     "iopub.status.busy": "2023-08-13T18:02:41.820374Z",
     "iopub.status.idle": "2023-08-13T18:02:42.352120Z",
     "shell.execute_reply": "2023-08-13T18:02:42.351378Z"
    },
    "papermill": {
     "duration": 0.548634,
     "end_time": "2023-08-13T18:02:42.354390",
     "exception": false,
     "start_time": "2023-08-13T18:02:41.805756",
     "status": "completed"
    },
    "tags": []
   },
   "outputs": [],
   "source": [
    "x1 = merged[['audienceScore','originalLanguage','date_year','date_month','date_day','rating']].astype(str)\n",
    "x1 = pipe.fit_transform(x1)\n",
    "x1 =pd.DataFrame(x1)\n",
    "x1.reset_index(drop =True,inplace=True)\n",
    "y = merged['sentiment']"
   ]
  },
  {
   "cell_type": "code",
   "execution_count": 22,
   "id": "84e22112",
   "metadata": {
    "execution": {
     "iopub.execute_input": "2023-08-13T18:02:42.383261Z",
     "iopub.status.busy": "2023-08-13T18:02:42.382710Z",
     "iopub.status.idle": "2023-08-13T18:02:48.154627Z",
     "shell.execute_reply": "2023-08-13T18:02:48.152976Z"
    },
    "papermill": {
     "duration": 5.789283,
     "end_time": "2023-08-13T18:02:48.157121",
     "exception": false,
     "start_time": "2023-08-13T18:02:42.367838",
     "status": "completed"
    },
    "tags": []
   },
   "outputs": [],
   "source": [
    "# using tfidfvectorizer on reviewText\n",
    "\n",
    "vect = TfidfVectorizer(max_features = 6200)\n",
    "x2 = vect.fit_transform(merged['reviewText']).toarray()\n",
    "\n",
    "x2 =pd.DataFrame(x2)\n",
    "x2.reset_index(drop =True,inplace=True)\n",
    "\n"
   ]
  },
  {
   "cell_type": "code",
   "execution_count": 23,
   "id": "968a58d5",
   "metadata": {
    "execution": {
     "iopub.execute_input": "2023-08-13T18:02:48.185152Z",
     "iopub.status.busy": "2023-08-13T18:02:48.184828Z",
     "iopub.status.idle": "2023-08-13T18:03:03.352053Z",
     "shell.execute_reply": "2023-08-13T18:03:03.350160Z"
    },
    "papermill": {
     "duration": 15.184365,
     "end_time": "2023-08-13T18:03:03.354861",
     "exception": false,
     "start_time": "2023-08-13T18:02:48.170496",
     "status": "completed"
    },
    "tags": []
   },
   "outputs": [],
   "source": [
    "x = pd.concat([x1,x2],axis = 1)"
   ]
  },
  {
   "cell_type": "code",
   "execution_count": 24,
   "id": "7a1b05c8",
   "metadata": {
    "execution": {
     "iopub.execute_input": "2023-08-13T18:03:03.383646Z",
     "iopub.status.busy": "2023-08-13T18:03:03.383262Z",
     "iopub.status.idle": "2023-08-13T18:03:03.391328Z",
     "shell.execute_reply": "2023-08-13T18:03:03.389888Z"
    },
    "papermill": {
     "duration": 0.025471,
     "end_time": "2023-08-13T18:03:03.393937",
     "exception": false,
     "start_time": "2023-08-13T18:03:03.368466",
     "status": "completed"
    },
    "tags": []
   },
   "outputs": [],
   "source": [
    "col = [x for x in range(6206)]\n",
    "x.columns = col"
   ]
  },
  {
   "cell_type": "code",
   "execution_count": 25,
   "id": "01a367a4",
   "metadata": {
    "execution": {
     "iopub.execute_input": "2023-08-13T18:03:03.423750Z",
     "iopub.status.busy": "2023-08-13T18:03:03.423375Z",
     "iopub.status.idle": "2023-08-13T18:03:13.449843Z",
     "shell.execute_reply": "2023-08-13T18:03:13.448239Z"
    },
    "papermill": {
     "duration": 10.044023,
     "end_time": "2023-08-13T18:03:13.452198",
     "exception": false,
     "start_time": "2023-08-13T18:03:03.408175",
     "status": "completed"
    },
    "tags": []
   },
   "outputs": [],
   "source": [
    "x_train,x_test,y_train,y_test = train_test_split(x,y,test_size =0.2,random_state=42)"
   ]
  },
  {
   "cell_type": "code",
   "execution_count": 26,
   "id": "7878fc39",
   "metadata": {
    "execution": {
     "iopub.execute_input": "2023-08-13T18:03:13.482678Z",
     "iopub.status.busy": "2023-08-13T18:03:13.482285Z",
     "iopub.status.idle": "2023-08-13T18:03:27.740085Z",
     "shell.execute_reply": "2023-08-13T18:03:27.739131Z"
    },
    "papermill": {
     "duration": 14.276125,
     "end_time": "2023-08-13T18:03:27.742214",
     "exception": false,
     "start_time": "2023-08-13T18:03:13.466089",
     "status": "completed"
    },
    "tags": []
   },
   "outputs": [
    {
     "name": "stdout",
     "output_type": "stream",
     "text": [
      "f1_score for Logistic Regression: 0.8093669023321284\n"
     ]
    }
   ],
   "source": [
    "# Logistic Regression model\n",
    "\n",
    "logreg = LogisticRegression(C =10,solver ='liblinear')\n",
    "logreg.fit(x_train, y_train)\n",
    "y_pred = logreg.predict(x_test)\n",
    "f1score= f1_score(y_pred,y_test,average='micro')\n",
    "print(\"f1_score for Logistic Regression:\",f1score)"
   ]
  },
  {
   "cell_type": "code",
   "execution_count": 27,
   "id": "0b3418a1",
   "metadata": {
    "execution": {
     "iopub.execute_input": "2023-08-13T18:03:27.772218Z",
     "iopub.status.busy": "2023-08-13T18:03:27.771825Z",
     "iopub.status.idle": "2023-08-13T18:03:27.776863Z",
     "shell.execute_reply": "2023-08-13T18:03:27.775809Z"
    },
    "papermill": {
     "duration": 0.022396,
     "end_time": "2023-08-13T18:03:27.779162",
     "exception": false,
     "start_time": "2023-08-13T18:03:27.756766",
     "status": "completed"
    },
    "tags": []
   },
   "outputs": [],
   "source": [
    "# # Random Forest is an ensemble learning method that combines multiple decision trees\n",
    "# # to make predictions. It can capture complex relationships in the data and is known\n",
    "# # for handling noisy data well.\n",
    "\n",
    "# rfc = RandomForestClassifier()\n",
    "# rfc.fit(x_train,y_train)\n",
    "# rfc_pred = rfc.predict(x_test)\n",
    "# f1score= f1_score(rfc_pred,y_test,average='micro')\n",
    "# print(\"f1_score for RandomForest Classifier:\",f1score)\n"
   ]
  },
  {
   "cell_type": "markdown",
   "id": "acab5a50",
   "metadata": {
    "papermill": {
     "duration": 0.013403,
     "end_time": "2023-08-13T18:03:27.806354",
     "exception": false,
     "start_time": "2023-08-13T18:03:27.792951",
     "status": "completed"
    },
    "tags": []
   },
   "source": [
    "f1_score for RandomForest Classifier: 0.7639399852842381"
   ]
  },
  {
   "cell_type": "code",
   "execution_count": 28,
   "id": "c30896a6",
   "metadata": {
    "execution": {
     "iopub.execute_input": "2023-08-13T18:03:27.835827Z",
     "iopub.status.busy": "2023-08-13T18:03:27.835463Z",
     "iopub.status.idle": "2023-08-13T18:03:27.841203Z",
     "shell.execute_reply": "2023-08-13T18:03:27.839940Z"
    },
    "papermill": {
     "duration": 0.022995,
     "end_time": "2023-08-13T18:03:27.843182",
     "exception": false,
     "start_time": "2023-08-13T18:03:27.820187",
     "status": "completed"
    },
    "tags": []
   },
   "outputs": [],
   "source": [
    "# Multinomial naive bayes model\n",
    "# Multinomial Naive Bayes, are simple and efficient classifiers \n",
    "# that work well for text classification tasks, including sentiment analysis. \n",
    "# They are known for their fast training and inference times.\n",
    "\n",
    "# mnb = MultinomialNB()\n",
    "# mnb.fit(x_train,y_train)\n",
    "# mnb_pred = mnb.predict(x_test)\n",
    "# f1score = f1_score(mnb_pred,y_test,average='micro')\n",
    "# print('f1_score for Multinomial naive bayes:',f1score)\n",
    "\n",
    "# Linear svc model\n",
    "\n",
    "# lin_svc = LinearSVC()\n",
    "# lin_svc.fit(x_train,y_train)\n",
    "# lin_pred = lin_svc.predict(x_test)\n",
    "# f1score = f1_score(lin_pred,y_test,average='micro')\n",
    "# print(\"f1_score for LinearSVC:\",f1score)"
   ]
  },
  {
   "cell_type": "markdown",
   "id": "76b39ee8",
   "metadata": {
    "papermill": {
     "duration": 0.013096,
     "end_time": "2023-08-13T18:03:27.870673",
     "exception": false,
     "start_time": "2023-08-13T18:03:27.857577",
     "status": "completed"
    },
    "tags": []
   },
   "source": [
    "f1_score for Multinomial naive bayes: 0.6959275728590166\n",
    "\n",
    "f1_score for LinearSVC: 0.7652835983236828"
   ]
  },
  {
   "cell_type": "code",
   "execution_count": 29,
   "id": "3aea3557",
   "metadata": {
    "execution": {
     "iopub.execute_input": "2023-08-13T18:03:27.899648Z",
     "iopub.status.busy": "2023-08-13T18:03:27.899007Z",
     "iopub.status.idle": "2023-08-13T18:03:27.903389Z",
     "shell.execute_reply": "2023-08-13T18:03:27.902633Z"
    },
    "papermill": {
     "duration": 0.021518,
     "end_time": "2023-08-13T18:03:27.905537",
     "exception": false,
     "start_time": "2023-08-13T18:03:27.884019",
     "status": "completed"
    },
    "tags": []
   },
   "outputs": [],
   "source": [
    "# # for logistic Regression\n",
    "# from sklearn.linear_model import LogisticRegression\n",
    "# from sklearn.metrics import f1_score\n",
    "# from sklearn.metrics import classification_report\n",
    "\n",
    "# logreg = LogisticRegression(max_iter = 100)\n",
    "# param_grid = {\n",
    "#     'C': [0.1, 1, 10, 100],      # Regularization strength\n",
    "#     'solver': ['liblinear', 'saga']    # Optimization solver\n",
    "# }\n",
    "\n",
    "# from sklearn.model_selection import GridSearchCV\n",
    "# grid_search_lr = GridSearchCV(logreg, param_grid, cv=5, scoring='f1_micro',n_jobs = -1)\n",
    "# grid_search_lr.fit(x_train,y_train)\n",
    "\n",
    "# best_model_lr = grid_search_lr.best_estimator_\n",
    "# print(best_model_lr)"
   ]
  },
  {
   "cell_type": "code",
   "execution_count": 30,
   "id": "2f35137f",
   "metadata": {
    "execution": {
     "iopub.execute_input": "2023-08-13T18:03:27.934792Z",
     "iopub.status.busy": "2023-08-13T18:03:27.934216Z",
     "iopub.status.idle": "2023-08-13T18:03:27.953695Z",
     "shell.execute_reply": "2023-08-13T18:03:27.952501Z"
    },
    "papermill": {
     "duration": 0.036712,
     "end_time": "2023-08-13T18:03:27.956018",
     "exception": false,
     "start_time": "2023-08-13T18:03:27.919306",
     "status": "completed"
    },
    "tags": []
   },
   "outputs": [],
   "source": [
    "# handling nan values in reviewText column of merged2\n",
    "merged2.reviewText=np.where(merged2[\"reviewText\"].astype(str) == \"nan\",\n",
    "                        \"normal\",merged2.reviewText)"
   ]
  },
  {
   "cell_type": "code",
   "execution_count": 31,
   "id": "42f291b2",
   "metadata": {
    "execution": {
     "iopub.execute_input": "2023-08-13T18:03:27.984857Z",
     "iopub.status.busy": "2023-08-13T18:03:27.984520Z",
     "iopub.status.idle": "2023-08-13T18:03:28.209225Z",
     "shell.execute_reply": "2023-08-13T18:03:28.207731Z"
    },
    "papermill": {
     "duration": 0.242447,
     "end_time": "2023-08-13T18:03:28.212088",
     "exception": false,
     "start_time": "2023-08-13T18:03:27.969641",
     "status": "completed"
    },
    "tags": []
   },
   "outputs": [],
   "source": [
    "# assigning values for prediction\n",
    "x4 = merged2[['audienceScore','originalLanguage','date_year','date_month','date_day','rating']].astype(str)\n",
    "x4 = pipe.fit_transform(x4)\n",
    "x4 =pd.DataFrame(x4)\n",
    "x4.reset_index(drop =True,inplace=True)\n"
   ]
  },
  {
   "cell_type": "code",
   "execution_count": 32,
   "id": "4f85c1c7",
   "metadata": {
    "execution": {
     "iopub.execute_input": "2023-08-13T18:03:28.242278Z",
     "iopub.status.busy": "2023-08-13T18:03:28.241840Z",
     "iopub.status.idle": "2023-08-13T18:03:29.971876Z",
     "shell.execute_reply": "2023-08-13T18:03:29.970263Z"
    },
    "papermill": {
     "duration": 1.748051,
     "end_time": "2023-08-13T18:03:29.974241",
     "exception": false,
     "start_time": "2023-08-13T18:03:28.226190",
     "status": "completed"
    },
    "tags": []
   },
   "outputs": [],
   "source": [
    "x5 = vect.transform(merged2['reviewText']).toarray()\n",
    "x5 =pd.DataFrame(x5)\n",
    "x5.reset_index(drop =True,inplace=True)"
   ]
  },
  {
   "cell_type": "code",
   "execution_count": 33,
   "id": "68c1c031",
   "metadata": {
    "execution": {
     "iopub.execute_input": "2023-08-13T18:03:30.003310Z",
     "iopub.status.busy": "2023-08-13T18:03:30.002944Z",
     "iopub.status.idle": "2023-08-13T18:03:32.250908Z",
     "shell.execute_reply": "2023-08-13T18:03:32.249762Z"
    },
    "papermill": {
     "duration": 2.265413,
     "end_time": "2023-08-13T18:03:32.253186",
     "exception": false,
     "start_time": "2023-08-13T18:03:29.987773",
     "status": "completed"
    },
    "tags": []
   },
   "outputs": [],
   "source": [
    "test = pd.concat([x4,x5],axis = 1)\n",
    "\n",
    "test.columns = col\n"
   ]
  },
  {
   "cell_type": "markdown",
   "id": "c2d89b33",
   "metadata": {
    "papermill": {
     "duration": 0.013783,
     "end_time": "2023-08-13T18:03:32.280716",
     "exception": false,
     "start_time": "2023-08-13T18:03:32.266933",
     "status": "completed"
    },
    "tags": []
   },
   "source": [
    "# **predicting on test dataset**"
   ]
  },
  {
   "cell_type": "code",
   "execution_count": 34,
   "id": "37ae7b2c",
   "metadata": {
    "execution": {
     "iopub.execute_input": "2023-08-13T18:03:32.309967Z",
     "iopub.status.busy": "2023-08-13T18:03:32.309645Z",
     "iopub.status.idle": "2023-08-13T18:03:34.693070Z",
     "shell.execute_reply": "2023-08-13T18:03:34.690503Z"
    },
    "papermill": {
     "duration": 2.401051,
     "end_time": "2023-08-13T18:03:34.695664",
     "exception": false,
     "start_time": "2023-08-13T18:03:32.294613",
     "status": "completed"
    },
    "tags": []
   },
   "outputs": [],
   "source": [
    "prediction = logreg.predict(test)"
   ]
  },
  {
   "cell_type": "markdown",
   "id": "6d285395",
   "metadata": {
    "papermill": {
     "duration": 0.018662,
     "end_time": "2023-08-13T18:03:34.737210",
     "exception": false,
     "start_time": "2023-08-13T18:03:34.718548",
     "status": "completed"
    },
    "tags": []
   },
   "source": [
    "# **Submission**"
   ]
  },
  {
   "cell_type": "code",
   "execution_count": 35,
   "id": "a6467dc9",
   "metadata": {
    "execution": {
     "iopub.execute_input": "2023-08-13T18:03:34.779254Z",
     "iopub.status.busy": "2023-08-13T18:03:34.778849Z",
     "iopub.status.idle": "2023-08-13T18:03:34.894706Z",
     "shell.execute_reply": "2023-08-13T18:03:34.892533Z"
    },
    "papermill": {
     "duration": 0.140662,
     "end_time": "2023-08-13T18:03:34.897754",
     "exception": false,
     "start_time": "2023-08-13T18:03:34.757092",
     "status": "completed"
    },
    "tags": []
   },
   "outputs": [],
   "source": [
    "submission = pd.DataFrame(columns=['id','sentiment'])\n",
    "submission['id']= [i for i in range(len(prediction))]\n",
    "submission['sentiment']= prediction \n",
    "submission.to_csv('submission.csv', index = False)"
   ]
  },
  {
   "cell_type": "code",
   "execution_count": 36,
   "id": "217d36a2",
   "metadata": {
    "execution": {
     "iopub.execute_input": "2023-08-13T18:03:34.928890Z",
     "iopub.status.busy": "2023-08-13T18:03:34.928510Z",
     "iopub.status.idle": "2023-08-13T18:03:34.934033Z",
     "shell.execute_reply": "2023-08-13T18:03:34.933052Z"
    },
    "papermill": {
     "duration": 0.024062,
     "end_time": "2023-08-13T18:03:34.936468",
     "exception": false,
     "start_time": "2023-08-13T18:03:34.912406",
     "status": "completed"
    },
    "tags": []
   },
   "outputs": [
    {
     "data": {
      "text/plain": [
       "(55315, 2)"
      ]
     },
     "execution_count": 36,
     "metadata": {},
     "output_type": "execute_result"
    }
   ],
   "source": [
    "# fetching no of rows and columns of submission file\n",
    "submission.shape"
   ]
  },
  {
   "cell_type": "code",
   "execution_count": null,
   "id": "9248458e",
   "metadata": {
    "papermill": {
     "duration": 0.013611,
     "end_time": "2023-08-13T18:03:34.964698",
     "exception": false,
     "start_time": "2023-08-13T18:03:34.951087",
     "status": "completed"
    },
    "tags": []
   },
   "outputs": [],
   "source": []
  }
 ],
 "metadata": {
  "kernelspec": {
   "display_name": "Python 3",
   "language": "python",
   "name": "python3"
  },
  "language_info": {
   "codemirror_mode": {
    "name": "ipython",
    "version": 3
   },
   "file_extension": ".py",
   "mimetype": "text/x-python",
   "name": "python",
   "nbconvert_exporter": "python",
   "pygments_lexer": "ipython3",
   "version": "3.10.10"
  },
  "papermill": {
   "default_parameters": {},
   "duration": 83.056889,
   "end_time": "2023-08-13T18:03:36.909898",
   "environment_variables": {},
   "exception": null,
   "input_path": "__notebook__.ipynb",
   "output_path": "__notebook__.ipynb",
   "parameters": {},
   "start_time": "2023-08-13T18:02:13.853009",
   "version": "2.4.0"
  }
 },
 "nbformat": 4,
 "nbformat_minor": 5
}
